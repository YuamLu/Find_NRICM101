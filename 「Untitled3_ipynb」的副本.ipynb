{
  "cells": [
    {
      "cell_type": "markdown",
      "metadata": {
        "id": "view-in-github",
        "colab_type": "text"
      },
      "source": [
        "<a href=\"https://colab.research.google.com/github/YuamLu/Find_NRICM101/blob/main/%E3%80%8CUntitled3_ipynb%E3%80%8D%E7%9A%84%E5%89%AF%E6%9C%AC.ipynb\" target=\"_parent\"><img src=\"https://colab.research.google.com/assets/colab-badge.svg\" alt=\"Open In Colab\"/></a>"
      ]
    },
    {
      "cell_type": "code",
      "execution_count": null,
      "metadata": {
        "id": "HjABN1s02ziV"
      },
      "outputs": [],
      "source": [
        "!pip install -q datasets hurst statsmodels"
      ]
    },
    {
      "cell_type": "code",
      "execution_count": null,
      "metadata": {
        "colab": {
          "base_uri": "https://localhost:8080/",
          "height": 733,
          "referenced_widgets": [
            "63a297e8c97e40beb42b8859a21d54f2",
            "3af794711f7c4421bdb5cee534872c99",
            "f98eb97091864dcba37229e9e38105f6",
            "158a69e99e8d4192843d54bef2734e11",
            "4211cff5830040f4996ceddd0334165d",
            "9f33d894f0484337be794b3fe743585f",
            "46281369fdee424c886e0507b37b515a",
            "cf36ab16b08c487f9fbc317914e8cfb3",
            "8dbf0eae496f431ea33bc5ca46eb3160",
            "8ff2298272b44a408cc95b29425908e6",
            "5cc6209749c04d2ea19dfca42547ad2b"
          ]
        },
        "id": "wmS6cSX526jN",
        "outputId": "93964f88-fd2b-47ee-b2d3-d45e2b423932"
      },
      "outputs": [
        {
          "output_type": "stream",
          "name": "stderr",
          "text": [
            "WARNING:datasets.builder:Found cached dataset parquet (/root/.cache/huggingface/datasets/yuan1729___parquet/yuan1729--voice_dataset-323797747ab9c3e7/0.0.0/2a3b91fbd88a2c90d1dbbb32b460cf621d31bd5b05b934492fdef7d8d6f236ec)\n"
          ]
        },
        {
          "output_type": "display_data",
          "data": {
            "text/plain": [
              "  0%|          | 0/2 [00:00<?, ?it/s]"
            ],
            "application/vnd.jupyter.widget-view+json": {
              "version_major": 2,
              "version_minor": 0,
              "model_id": "63a297e8c97e40beb42b8859a21d54f2"
            }
          },
          "metadata": {}
        },
        {
          "output_type": "execute_result",
          "data": {
            "text/plain": [
              "DatasetDict({\n",
              "    train: Dataset({\n",
              "        features: ['audio', 'ID', 'Sex', 'Age', 'Disease category', 'Narrow pitch range', 'Decreased volume', 'Fatigue', 'Dryness', 'Lumping', 'heartburn', 'Choking', 'Eye dryness', 'PND', 'Smoking', 'PPD', 'Drinking', 'frequency', 'Diurnal pattern', 'Onset of dysphonia ', 'Noise at work', 'Occupational vocal demand', 'Diabetes', 'Hypertension', 'CAD', 'Head and Neck Cancer', 'Head injury', 'CVA', 'Voice handicap index - 10'],\n",
              "        num_rows: 900\n",
              "    })\n",
              "    test: Dataset({\n",
              "        features: ['audio', 'ID', 'Sex', 'Age', 'Disease category', 'Narrow pitch range', 'Decreased volume', 'Fatigue', 'Dryness', 'Lumping', 'heartburn', 'Choking', 'Eye dryness', 'PND', 'Smoking', 'PPD', 'Drinking', 'frequency', 'Diurnal pattern', 'Onset of dysphonia ', 'Noise at work', 'Occupational vocal demand', 'Diabetes', 'Hypertension', 'CAD', 'Head and Neck Cancer', 'Head injury', 'CVA', 'Voice handicap index - 10'],\n",
              "        num_rows: 100\n",
              "    })\n",
              "})"
            ]
          },
          "metadata": {},
          "execution_count": 2
        }
      ],
      "source": [
        "from datasets import load_dataset\n",
        "\n",
        "datasets = load_dataset('yuan1729/voice_dataset')\n",
        "\n",
        "datasets"
      ]
    },
    {
      "cell_type": "code",
      "execution_count": null,
      "metadata": {
        "id": "ntCQbYXt3UYt"
      },
      "outputs": [],
      "source": [
        "from hurst import compute_Hc, random_walk\n",
        "import numpy as np\n",
        "\n",
        "# Calculate the Hurst Exponent for the series\n",
        "def hurst_exp(series):\n",
        "    H, c, data = compute_Hc(series, kind='random_walk', simplified=True)\n",
        "    H = np.array([H])\n",
        "    return H\n",
        "\n",
        "\n",
        "\n",
        "\n",
        "import statsmodels \n",
        "\n",
        "# Calculate the AR parameters for the series\n",
        "def ar_parameters(series):\n",
        "    AR = statsmodels.regression.linear_model.burg(series, 14)[0]\n",
        "    return AR"
      ]
    },
    {
      "cell_type": "code",
      "execution_count": null,
      "metadata": {
        "id": "JigEvmmH276N"
      },
      "outputs": [],
      "source": [
        "def to_lambda(original_list):\n",
        "\n",
        "  # 构造lambda表达式的字符串模板\n",
        "  lambda_template = \"lambda x: {}\"\n",
        "\n",
        "  # 将每个元组转换为相应的表达式字符串，并将它们拼接起来\n",
        "  expr_list = [\"x['{}'] == {}\".format(k, v) for k, v in original_list]\n",
        "  expr_str = \" and \".join(expr_list)\n",
        "\n",
        "  # 将表达式字符串插入到模板中，并使用eval()函数将其转换为lambda表达式\n",
        "  lambda_str = lambda_template.format(expr_str)\n",
        "  lambda_func = eval(lambda_str)\n",
        "\n",
        "  # 输出lambda表达式\n",
        "  return lambda_func"
      ]
    },
    {
      "cell_type": "code",
      "execution_count": null,
      "metadata": {
        "id": "WPfyAmx429T9",
        "colab": {
          "base_uri": "https://localhost:8080/"
        },
        "outputId": "5f2e0787-9511-4b48-c9cb-6a0dd867eb78"
      },
      "outputs": [
        {
          "output_type": "stream",
          "name": "stderr",
          "text": [
            "WARNING:datasets.arrow_dataset:Loading cached processed dataset at /root/.cache/huggingface/datasets/yuan1729___parquet/yuan1729--voice_dataset-323797747ab9c3e7/0.0.0/2a3b91fbd88a2c90d1dbbb32b460cf621d31bd5b05b934492fdef7d8d6f236ec/cache-15f909bc1e2ef085.arrow\n",
            "WARNING:datasets.arrow_dataset:Loading cached processed dataset at /root/.cache/huggingface/datasets/yuan1729___parquet/yuan1729--voice_dataset-323797747ab9c3e7/0.0.0/2a3b91fbd88a2c90d1dbbb32b460cf621d31bd5b05b934492fdef7d8d6f236ec/cache-b1dcbeac576822b4.arrow\n",
            "WARNING:datasets.arrow_dataset:Loading cached processed dataset at /root/.cache/huggingface/datasets/yuan1729___parquet/yuan1729--voice_dataset-323797747ab9c3e7/0.0.0/2a3b91fbd88a2c90d1dbbb32b460cf621d31bd5b05b934492fdef7d8d6f236ec/cache-6df6a6700e102785.arrow\n",
            "WARNING:datasets.arrow_dataset:Loading cached processed dataset at /root/.cache/huggingface/datasets/yuan1729___parquet/yuan1729--voice_dataset-323797747ab9c3e7/0.0.0/2a3b91fbd88a2c90d1dbbb32b460cf621d31bd5b05b934492fdef7d8d6f236ec/cache-9ebb8cdd7f5328da.arrow\n",
            "WARNING:datasets.arrow_dataset:Loading cached processed dataset at /root/.cache/huggingface/datasets/yuan1729___parquet/yuan1729--voice_dataset-323797747ab9c3e7/0.0.0/2a3b91fbd88a2c90d1dbbb32b460cf621d31bd5b05b934492fdef7d8d6f236ec/cache-42abd6186c8bafe6.arrow\n",
            "WARNING:datasets.arrow_dataset:Loading cached processed dataset at /root/.cache/huggingface/datasets/yuan1729___parquet/yuan1729--voice_dataset-323797747ab9c3e7/0.0.0/2a3b91fbd88a2c90d1dbbb32b460cf621d31bd5b05b934492fdef7d8d6f236ec/cache-d4faf8b4da8813e2.arrow\n"
          ]
        }
      ],
      "source": [
        "import itertools\n",
        "from itertools import product\n",
        "\n",
        "tags = ['Sex','Noise at work']\n",
        "column_vals = []\n",
        "\n",
        "for tag in tags:\n",
        "\n",
        "  types = list(set([i[tag] for i in datasets['train']]))\n",
        "  column_vals.append([tag,types])\n",
        "vals_ = ([list(product(*[[i[0]],i[1]])) for i in column_vals])\n",
        "paras = list(product(*vals_))\n",
        "\n",
        "ds = []\n",
        "\n",
        "for i in (list(product(*vals_))):\n",
        "  ds.append({'tags': i, 'dataset': datasets['train'].filter(to_lambda(i))})"
      ]
    },
    {
      "cell_type": "code",
      "execution_count": null,
      "metadata": {
        "id": "Owvsr4Nw2_Z9",
        "colab": {
          "base_uri": "https://localhost:8080/",
          "height": 637
        },
        "outputId": "f114a53f-e4f8-4d1a-c6c1-1e95ecea84c5"
      },
      "outputs": [
        {
          "output_type": "stream",
          "name": "stderr",
          "text": [
            "  0%|          | 0/207 [00:04<?, ?it/s]\n"
          ]
        },
        {
          "output_type": "error",
          "ename": "AttributeError",
          "evalue": "ignored",
          "traceback": [
            "\u001b[0;31m---------------------------------------------------------------------------\u001b[0m",
            "\u001b[0;31mAttributeError\u001b[0m                            Traceback (most recent call last)",
            "\u001b[0;32m<ipython-input-6-4fe65cac33dd>\u001b[0m in \u001b[0;36m<cell line: 1>\u001b[0;34m()\u001b[0m\n\u001b[1;32m      8\u001b[0m \u001b[0;34m\u001b[0m\u001b[0m\n\u001b[1;32m      9\u001b[0m   \u001b[0;32mfor\u001b[0m \u001b[0mi\u001b[0m \u001b[0;32min\u001b[0m \u001b[0mtqdm\u001b[0m\u001b[0;34m(\u001b[0m\u001b[0mrange\u001b[0m\u001b[0;34m(\u001b[0m\u001b[0mlen\u001b[0m\u001b[0;34m(\u001b[0m\u001b[0msimple_data\u001b[0m\u001b[0;34m)\u001b[0m\u001b[0;34m)\u001b[0m\u001b[0;34m)\u001b[0m\u001b[0;34m:\u001b[0m\u001b[0;34m\u001b[0m\u001b[0;34m\u001b[0m\u001b[0m\n\u001b[0;32m---> 10\u001b[0;31m       \u001b[0msimple_data\u001b[0m\u001b[0;34m[\u001b[0m\u001b[0mi\u001b[0m\u001b[0;34m]\u001b[0m\u001b[0;34m[\u001b[0m\u001b[0;34m'H_and_AR'\u001b[0m\u001b[0;34m]\u001b[0m \u001b[0;34m=\u001b[0m \u001b[0mnp\u001b[0m\u001b[0;34m.\u001b[0m\u001b[0mhstack\u001b[0m\u001b[0;34m(\u001b[0m\u001b[0;34m[\u001b[0m\u001b[0mhurst_exp\u001b[0m\u001b[0;34m(\u001b[0m\u001b[0msimple_data\u001b[0m\u001b[0;34m[\u001b[0m\u001b[0mi\u001b[0m\u001b[0;34m]\u001b[0m\u001b[0;34m[\u001b[0m\u001b[0;34m'audio'\u001b[0m\u001b[0;34m]\u001b[0m\u001b[0;34m)\u001b[0m\u001b[0;34m,\u001b[0m \u001b[0mar_parameters\u001b[0m\u001b[0;34m(\u001b[0m\u001b[0msimple_data\u001b[0m\u001b[0;34m[\u001b[0m\u001b[0mi\u001b[0m\u001b[0;34m]\u001b[0m\u001b[0;34m[\u001b[0m\u001b[0;34m'audio'\u001b[0m\u001b[0;34m]\u001b[0m\u001b[0;34m)\u001b[0m\u001b[0;34m]\u001b[0m\u001b[0;34m)\u001b[0m\u001b[0;34m\u001b[0m\u001b[0;34m\u001b[0m\u001b[0m\n\u001b[0m\u001b[1;32m     11\u001b[0m \u001b[0;34m\u001b[0m\u001b[0m\n\u001b[1;32m     12\u001b[0m   \u001b[0;31m# use sklearn to train a svm classifier model\u001b[0m\u001b[0;34m\u001b[0m\u001b[0;34m\u001b[0m\u001b[0m\n",
            "\u001b[0;32m<ipython-input-3-8d41899481c4>\u001b[0m in \u001b[0;36mar_parameters\u001b[0;34m(series)\u001b[0m\n\u001b[1;32m     15\u001b[0m \u001b[0;31m# Calculate the AR parameters for the series\u001b[0m\u001b[0;34m\u001b[0m\u001b[0;34m\u001b[0m\u001b[0m\n\u001b[1;32m     16\u001b[0m \u001b[0;32mdef\u001b[0m \u001b[0mar_parameters\u001b[0m\u001b[0;34m(\u001b[0m\u001b[0mseries\u001b[0m\u001b[0;34m)\u001b[0m\u001b[0;34m:\u001b[0m\u001b[0;34m\u001b[0m\u001b[0;34m\u001b[0m\u001b[0m\n\u001b[0;32m---> 17\u001b[0;31m     \u001b[0mAR\u001b[0m \u001b[0;34m=\u001b[0m \u001b[0mstatsmodels\u001b[0m\u001b[0;34m.\u001b[0m\u001b[0mregression\u001b[0m\u001b[0;34m.\u001b[0m\u001b[0mlinear_model\u001b[0m\u001b[0;34m.\u001b[0m\u001b[0mburg\u001b[0m\u001b[0;34m(\u001b[0m\u001b[0mseries\u001b[0m\u001b[0;34m,\u001b[0m \u001b[0;36m14\u001b[0m\u001b[0;34m)\u001b[0m\u001b[0;34m[\u001b[0m\u001b[0;36m0\u001b[0m\u001b[0;34m]\u001b[0m\u001b[0;34m\u001b[0m\u001b[0;34m\u001b[0m\u001b[0m\n\u001b[0m\u001b[1;32m     18\u001b[0m     \u001b[0;32mreturn\u001b[0m \u001b[0mAR\u001b[0m\u001b[0;34m\u001b[0m\u001b[0;34m\u001b[0m\u001b[0m\n",
            "\u001b[0;31mAttributeError\u001b[0m: module 'statsmodels' has no attribute 'regression'"
          ]
        }
      ],
      "source": [
        "for d in ds:\n",
        "\n",
        "  tag = d['tags']\n",
        "  dataset = d['dataset']\n",
        "\n",
        "  simple_data = [{'id': i['ID'], 'audio': i[\"audio\"]['array'], 'disease': i['Disease category']} for i in dataset]\n",
        "  from tqdm import tqdm\n",
        "\n",
        "  for i in tqdm(range(len(simple_data))):\n",
        "      simple_data[i]['H_and_AR'] = np.hstack([hurst_exp(simple_data[i]['audio']), ar_parameters(simple_data[i]['audio'])])\n",
        "\n",
        "  # use sklearn to train a svm classifier model\n",
        "  # feature is 'H_and_AR' in simple_data, label is 'disease' in simple_data.\n",
        "  # data split: 90% for training, 10% for testing\n",
        "\n",
        "  from sklearn.model_selection import train_test_split\n",
        "  from sklearn.metrics import accuracy_score, recall_score, precision_score, f1_score\n",
        "\n",
        "  X = np.array([i['H_and_AR'] for i in simple_data])\n",
        "  y = np.array([i['disease'] for i in simple_data])\n",
        "\n",
        "  # split data\n",
        "  X_train, X_test, y_train, y_test = train_test_split(X, y, test_size=0.1, random_state=3)\n",
        "\n",
        "  from sklearn import svm, tree, neighbors\n",
        "  from sklearn.ensemble import GradientBoostingClassifier\n",
        "  from sklearn.linear_model import LogisticRegression\n",
        "  from sklearn.model_selection import KFold\n",
        "  from sklearn.metrics import accuracy_score, recall_score, precision_score, f1_score\n",
        "\n",
        "  # create a list of models to test\n",
        "  models = [\n",
        "      ('SVM', svm.SVC()),\n",
        "      ('Decision Tree', tree.DecisionTreeClassifier()),\n",
        "      ('k-NN', neighbors.KNeighborsClassifier()),\n",
        "      ('Gradient Boosting', GradientBoostingClassifier()),\n",
        "      ('Logistic Regression', LogisticRegression())\n",
        "  ]\n",
        "\n",
        "  print(tag)\n",
        "  print()\n",
        "  print()\n",
        "\n",
        "  # iterate over models\n",
        "  for name, model in models:\n",
        "      print(name)\n",
        "      # perform 10-fold cross-validation\n",
        "      kf = KFold(n_splits=10, shuffle=True, random_state=3)\n",
        "      acc_scores = []\n",
        "      recall_scores = []\n",
        "      precision_scores = []\n",
        "      f1_scores = []\n",
        "      for train_index, test_index in kf.split(X):\n",
        "          X_train, X_test = X[train_index], X[test_index]\n",
        "          y_train, y_test = y[train_index], y[test_index]\n",
        "          # train model\n",
        "          model.fit(X_train, y_train)\n",
        "          # test model\n",
        "          y_pred = model.predict(X_test)\n",
        "          acc_scores.append(accuracy_score(y_test, y_pred))\n",
        "          recall_scores.append(recall_score(y_test, y_pred, average='macro', zero_division=0))\n",
        "          precision_scores.append(precision_score(y_test, y_pred, average='macro', zero_division=0))\n",
        "          f1_scores.append(f1_score(y_test, y_pred, average='macro', zero_division=0))\n",
        "      # print average performance metrics over all folds\n",
        "      print('Accuracy:', round(sum(acc_scores)/len(acc_scores), 4))\n",
        "      print('Recall:', round(sum(recall_scores)/len(recall_scores), 4))\n",
        "      print('Precision:', round(sum(precision_scores)/len(precision_scores), 4))\n",
        "      print('F1:', round(sum(f1_scores)/len(f1_scores), 4))\n",
        "      print()"
      ]
    },
    {
      "cell_type": "code",
      "source": [
        "!pip install  -q statsmodels"
      ],
      "metadata": {
        "id": "uIsc0xgCB2wH"
      },
      "execution_count": null,
      "outputs": []
    }
  ],
  "metadata": {
    "colab": {
      "provenance": [],
      "authorship_tag": "ABX9TyNF+5WqcKRzncNBDow40aE2",
      "include_colab_link": true
    },
    "kernelspec": {
      "display_name": "Python 3",
      "name": "python3"
    },
    "language_info": {
      "name": "python"
    },
    "widgets": {
      "application/vnd.jupyter.widget-state+json": {
        "63a297e8c97e40beb42b8859a21d54f2": {
          "model_module": "@jupyter-widgets/controls",
          "model_name": "HBoxModel",
          "model_module_version": "1.5.0",
          "state": {
            "_dom_classes": [],
            "_model_module": "@jupyter-widgets/controls",
            "_model_module_version": "1.5.0",
            "_model_name": "HBoxModel",
            "_view_count": null,
            "_view_module": "@jupyter-widgets/controls",
            "_view_module_version": "1.5.0",
            "_view_name": "HBoxView",
            "box_style": "",
            "children": [
              "IPY_MODEL_3af794711f7c4421bdb5cee534872c99",
              "IPY_MODEL_f98eb97091864dcba37229e9e38105f6",
              "IPY_MODEL_158a69e99e8d4192843d54bef2734e11"
            ],
            "layout": "IPY_MODEL_4211cff5830040f4996ceddd0334165d"
          }
        },
        "3af794711f7c4421bdb5cee534872c99": {
          "model_module": "@jupyter-widgets/controls",
          "model_name": "HTMLModel",
          "model_module_version": "1.5.0",
          "state": {
            "_dom_classes": [],
            "_model_module": "@jupyter-widgets/controls",
            "_model_module_version": "1.5.0",
            "_model_name": "HTMLModel",
            "_view_count": null,
            "_view_module": "@jupyter-widgets/controls",
            "_view_module_version": "1.5.0",
            "_view_name": "HTMLView",
            "description": "",
            "description_tooltip": null,
            "layout": "IPY_MODEL_9f33d894f0484337be794b3fe743585f",
            "placeholder": "​",
            "style": "IPY_MODEL_46281369fdee424c886e0507b37b515a",
            "value": "100%"
          }
        },
        "f98eb97091864dcba37229e9e38105f6": {
          "model_module": "@jupyter-widgets/controls",
          "model_name": "FloatProgressModel",
          "model_module_version": "1.5.0",
          "state": {
            "_dom_classes": [],
            "_model_module": "@jupyter-widgets/controls",
            "_model_module_version": "1.5.0",
            "_model_name": "FloatProgressModel",
            "_view_count": null,
            "_view_module": "@jupyter-widgets/controls",
            "_view_module_version": "1.5.0",
            "_view_name": "ProgressView",
            "bar_style": "success",
            "description": "",
            "description_tooltip": null,
            "layout": "IPY_MODEL_cf36ab16b08c487f9fbc317914e8cfb3",
            "max": 2,
            "min": 0,
            "orientation": "horizontal",
            "style": "IPY_MODEL_8dbf0eae496f431ea33bc5ca46eb3160",
            "value": 2
          }
        },
        "158a69e99e8d4192843d54bef2734e11": {
          "model_module": "@jupyter-widgets/controls",
          "model_name": "HTMLModel",
          "model_module_version": "1.5.0",
          "state": {
            "_dom_classes": [],
            "_model_module": "@jupyter-widgets/controls",
            "_model_module_version": "1.5.0",
            "_model_name": "HTMLModel",
            "_view_count": null,
            "_view_module": "@jupyter-widgets/controls",
            "_view_module_version": "1.5.0",
            "_view_name": "HTMLView",
            "description": "",
            "description_tooltip": null,
            "layout": "IPY_MODEL_8ff2298272b44a408cc95b29425908e6",
            "placeholder": "​",
            "style": "IPY_MODEL_5cc6209749c04d2ea19dfca42547ad2b",
            "value": " 2/2 [00:00&lt;00:00, 40.61it/s]"
          }
        },
        "4211cff5830040f4996ceddd0334165d": {
          "model_module": "@jupyter-widgets/base",
          "model_name": "LayoutModel",
          "model_module_version": "1.2.0",
          "state": {
            "_model_module": "@jupyter-widgets/base",
            "_model_module_version": "1.2.0",
            "_model_name": "LayoutModel",
            "_view_count": null,
            "_view_module": "@jupyter-widgets/base",
            "_view_module_version": "1.2.0",
            "_view_name": "LayoutView",
            "align_content": null,
            "align_items": null,
            "align_self": null,
            "border": null,
            "bottom": null,
            "display": null,
            "flex": null,
            "flex_flow": null,
            "grid_area": null,
            "grid_auto_columns": null,
            "grid_auto_flow": null,
            "grid_auto_rows": null,
            "grid_column": null,
            "grid_gap": null,
            "grid_row": null,
            "grid_template_areas": null,
            "grid_template_columns": null,
            "grid_template_rows": null,
            "height": null,
            "justify_content": null,
            "justify_items": null,
            "left": null,
            "margin": null,
            "max_height": null,
            "max_width": null,
            "min_height": null,
            "min_width": null,
            "object_fit": null,
            "object_position": null,
            "order": null,
            "overflow": null,
            "overflow_x": null,
            "overflow_y": null,
            "padding": null,
            "right": null,
            "top": null,
            "visibility": null,
            "width": null
          }
        },
        "9f33d894f0484337be794b3fe743585f": {
          "model_module": "@jupyter-widgets/base",
          "model_name": "LayoutModel",
          "model_module_version": "1.2.0",
          "state": {
            "_model_module": "@jupyter-widgets/base",
            "_model_module_version": "1.2.0",
            "_model_name": "LayoutModel",
            "_view_count": null,
            "_view_module": "@jupyter-widgets/base",
            "_view_module_version": "1.2.0",
            "_view_name": "LayoutView",
            "align_content": null,
            "align_items": null,
            "align_self": null,
            "border": null,
            "bottom": null,
            "display": null,
            "flex": null,
            "flex_flow": null,
            "grid_area": null,
            "grid_auto_columns": null,
            "grid_auto_flow": null,
            "grid_auto_rows": null,
            "grid_column": null,
            "grid_gap": null,
            "grid_row": null,
            "grid_template_areas": null,
            "grid_template_columns": null,
            "grid_template_rows": null,
            "height": null,
            "justify_content": null,
            "justify_items": null,
            "left": null,
            "margin": null,
            "max_height": null,
            "max_width": null,
            "min_height": null,
            "min_width": null,
            "object_fit": null,
            "object_position": null,
            "order": null,
            "overflow": null,
            "overflow_x": null,
            "overflow_y": null,
            "padding": null,
            "right": null,
            "top": null,
            "visibility": null,
            "width": null
          }
        },
        "46281369fdee424c886e0507b37b515a": {
          "model_module": "@jupyter-widgets/controls",
          "model_name": "DescriptionStyleModel",
          "model_module_version": "1.5.0",
          "state": {
            "_model_module": "@jupyter-widgets/controls",
            "_model_module_version": "1.5.0",
            "_model_name": "DescriptionStyleModel",
            "_view_count": null,
            "_view_module": "@jupyter-widgets/base",
            "_view_module_version": "1.2.0",
            "_view_name": "StyleView",
            "description_width": ""
          }
        },
        "cf36ab16b08c487f9fbc317914e8cfb3": {
          "model_module": "@jupyter-widgets/base",
          "model_name": "LayoutModel",
          "model_module_version": "1.2.0",
          "state": {
            "_model_module": "@jupyter-widgets/base",
            "_model_module_version": "1.2.0",
            "_model_name": "LayoutModel",
            "_view_count": null,
            "_view_module": "@jupyter-widgets/base",
            "_view_module_version": "1.2.0",
            "_view_name": "LayoutView",
            "align_content": null,
            "align_items": null,
            "align_self": null,
            "border": null,
            "bottom": null,
            "display": null,
            "flex": null,
            "flex_flow": null,
            "grid_area": null,
            "grid_auto_columns": null,
            "grid_auto_flow": null,
            "grid_auto_rows": null,
            "grid_column": null,
            "grid_gap": null,
            "grid_row": null,
            "grid_template_areas": null,
            "grid_template_columns": null,
            "grid_template_rows": null,
            "height": null,
            "justify_content": null,
            "justify_items": null,
            "left": null,
            "margin": null,
            "max_height": null,
            "max_width": null,
            "min_height": null,
            "min_width": null,
            "object_fit": null,
            "object_position": null,
            "order": null,
            "overflow": null,
            "overflow_x": null,
            "overflow_y": null,
            "padding": null,
            "right": null,
            "top": null,
            "visibility": null,
            "width": null
          }
        },
        "8dbf0eae496f431ea33bc5ca46eb3160": {
          "model_module": "@jupyter-widgets/controls",
          "model_name": "ProgressStyleModel",
          "model_module_version": "1.5.0",
          "state": {
            "_model_module": "@jupyter-widgets/controls",
            "_model_module_version": "1.5.0",
            "_model_name": "ProgressStyleModel",
            "_view_count": null,
            "_view_module": "@jupyter-widgets/base",
            "_view_module_version": "1.2.0",
            "_view_name": "StyleView",
            "bar_color": null,
            "description_width": ""
          }
        },
        "8ff2298272b44a408cc95b29425908e6": {
          "model_module": "@jupyter-widgets/base",
          "model_name": "LayoutModel",
          "model_module_version": "1.2.0",
          "state": {
            "_model_module": "@jupyter-widgets/base",
            "_model_module_version": "1.2.0",
            "_model_name": "LayoutModel",
            "_view_count": null,
            "_view_module": "@jupyter-widgets/base",
            "_view_module_version": "1.2.0",
            "_view_name": "LayoutView",
            "align_content": null,
            "align_items": null,
            "align_self": null,
            "border": null,
            "bottom": null,
            "display": null,
            "flex": null,
            "flex_flow": null,
            "grid_area": null,
            "grid_auto_columns": null,
            "grid_auto_flow": null,
            "grid_auto_rows": null,
            "grid_column": null,
            "grid_gap": null,
            "grid_row": null,
            "grid_template_areas": null,
            "grid_template_columns": null,
            "grid_template_rows": null,
            "height": null,
            "justify_content": null,
            "justify_items": null,
            "left": null,
            "margin": null,
            "max_height": null,
            "max_width": null,
            "min_height": null,
            "min_width": null,
            "object_fit": null,
            "object_position": null,
            "order": null,
            "overflow": null,
            "overflow_x": null,
            "overflow_y": null,
            "padding": null,
            "right": null,
            "top": null,
            "visibility": null,
            "width": null
          }
        },
        "5cc6209749c04d2ea19dfca42547ad2b": {
          "model_module": "@jupyter-widgets/controls",
          "model_name": "DescriptionStyleModel",
          "model_module_version": "1.5.0",
          "state": {
            "_model_module": "@jupyter-widgets/controls",
            "_model_module_version": "1.5.0",
            "_model_name": "DescriptionStyleModel",
            "_view_count": null,
            "_view_module": "@jupyter-widgets/base",
            "_view_module_version": "1.2.0",
            "_view_name": "StyleView",
            "description_width": ""
          }
        }
      }
    }
  },
  "nbformat": 4,
  "nbformat_minor": 0
}